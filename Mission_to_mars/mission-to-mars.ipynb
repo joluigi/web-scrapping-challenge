{
 "cells": [
  {
   "cell_type": "markdown",
   "metadata": {},
   "source": [
    "# Mission to Mars Scrapping"
   ]
  },
  {
   "cell_type": "markdown",
   "metadata": {},
   "source": [
    "Site to explore: <a href=\"https://redplanetscience.com/\">Redplanet Science</a>"
   ]
  },
  {
   "cell_type": "code",
   "execution_count": 20,
   "metadata": {},
   "outputs": [],
   "source": [
    "# Importing Dependencies\n",
    "\n",
    "import pandas as pd\n",
    "from bs4 import BeautifulSoup as bs\n",
    "from splinter import Browser\n",
    "from webdriver_manager.chrome import ChromeDriverManager\n",
    "import requests\n",
    "from urllib.request import urlopen as uReq"
   ]
  },
  {
   "cell_type": "code",
   "execution_count": 21,
   "metadata": {},
   "outputs": [
    {
     "output_type": "stream",
     "name": "stderr",
     "text": [
      "[WDM] - ====== WebDriver manager ======\n",
      "[WDM] - Current google-chrome version is 89.0.4389\n",
      "[WDM] - Get LATEST driver version for 89.0.4389\n",
      "\n",
      "\n",
      "[WDM] - Get LATEST driver version for 89.0.4389\n",
      "[WDM] - Trying to download new driver from https://chromedriver.storage.googleapis.com/89.0.4389.23/chromedriver_win32.zip\n",
      "[WDM] - Driver has been saved in cache [C:\\Users\\Jose.Vazquez\\.wdm\\drivers\\chromedriver\\win32\\89.0.4389.23]\n"
     ]
    }
   ],
   "source": [
    "# Setup splinter\n",
    "executable_path = {'executable_path': ChromeDriverManager().install()}\n",
    "browser = Browser('chrome', **executable_path, headless=False)"
   ]
  },
  {
   "source": [
    "# 1. Latest Mars news extraction"
   ],
   "cell_type": "markdown",
   "metadata": {}
  },
  {
   "cell_type": "code",
   "execution_count": 32,
   "metadata": {},
   "outputs": [],
   "source": [
    "# Defining URL to scrape\n",
    "\n",
    "url = \"https://redplanetscience.com/\"\n",
    "browser.visit(url)"
   ]
  },
  {
   "cell_type": "code",
   "execution_count": 29,
   "metadata": {},
   "outputs": [
    {
     "output_type": "stream",
     "name": "stdout",
     "text": [
      "Title: The Launch Is Approaching for NASA's Next Mars Rover, Perseverance\nArticle extract: The Red Planet's surface has been visited by eight NASA spacecraft. The ninth will be the first that includes a roundtrip ticket in its flight plan. \n----------------------------------\nTitle: NASA Perseverance Mars Rover Scientists Train in the Nevada Desert\nArticle extract: Team members searched for signs of ancient microscopic life there, just as NASA's latest rover will on the Red Planet next year.\n----------------------------------\nTitle: 8 Martian Postcards to Celebrate Curiosity's Landing Anniversary\nArticle extract: The NASA rover touched down eight years ago, on Aug. 5, 2012, and will soon be joined by a second rover, Perseverance.\n----------------------------------\nTitle: NASA's Mars 2020 Rover Goes Coast-to-Coast to Prep for Launch\nArticle extract: The agency's first step in returning rocks from Mars just arrived at Kennedy Space Center. The Mars 2020 team now begins readying for a launch to the Red Planet this July.\n----------------------------------\nTitle: NASA Moves Forward With Campaign to Return Mars Samples to Earth\nArticle extract: During this next phase, the program will mature critical technologies and make critical design decisions as well as assess industry partnerships.\n----------------------------------\nTitle: NASA's Perseverance Rover Mission Getting in Shape for Launch\nArticle extract: Stacking spacecraft components on top of each other is one of the final assembly steps before a mission launches to the Red Planet. \n----------------------------------\nTitle: With Mars Methane Mystery Unsolved, Curiosity Serves Scientists a New One: Oxygen\nArticle extract: For the first time in the history of space exploration, scientists have measured the seasonal changes in the gases that fill the air directly above the surface of Gale Crater on Mars. \n----------------------------------\nTitle: NASA's MAVEN Maps Winds in the Martian Upper Atmosphere that Mirror the Terrain Below and Gives Clues to Martian Climate\nArticle extract: Researchers have created the first map of wind circulation in the upper atmosphere of a planet besides Earth, using data from NASA’s MAVEN spacecraft that were collected during the last two years.\n----------------------------------\nTitle: Screening Soon: 'The Pathfinders' Trains Lens on Mars\nArticle extract: With the Mars 2020 mission ramping up, the documentary — the first of four about past JPL missions to the Red Planet to be shown at Caltech — tells a gripping backstory.\n----------------------------------\nTitle: Heat and Dust Help Launch Martian Water Into Space, Scientists Find\nArticle extract: Scientists using an instrument aboard NASA’s Mars Atmosphere and Volatile EvolutioN, or MAVEN, spacecraft have discovered that water vapor near the surface of the Red Planet is lofted higher into the atmosphere than anyone expected was possible. \n----------------------------------\nTitle: NASA's Perseverance Rover Will Carry First Spacesuit Materials to Mars\nArticle extract: In a Q&A, spacesuit designer Amy Ross explains how five samples, including a piece of helmet visor, will be tested aboard the rover, which is targeting a July 30 launch. \n----------------------------------\nTitle: NASA's Treasure Map for Water Ice on Mars\nArticle extract: A new study identifies frozen water just below the Martian surface, where astronauts could easily dig it up.\n----------------------------------\nTitle: NASA Wins 4 Webbys, 4 People's Voice Awards\nArticle extract: Winners include the JPL-managed \"Send Your Name to Mars\" campaign, NASA's Global Climate Change website and Solar System Interactive.\n----------------------------------\nTitle: A Martian Roundtrip: NASA's Perseverance Rover Sample Tubes\nArticle extract: Marvels of engineering, the rover's sample tubes must be tough enough to safely bring Red Planet samples on the long journey back to Earth in immaculate condition. \n----------------------------------\nTitle: How NASA's Mars Helicopter Will Reach the Red Planet's Surface\nArticle extract: The small craft will seek to prove that powered, controlled flight is possible on another planet. But just getting it onto the surface of Mars will take a whole lot of ingenuity.\n----------------------------------\n"
     ]
    }
   ],
   "source": [
    "html = browser.html\n",
    "soup = bs(html, 'html.parser')\n",
    "\n",
    "title_list = []\n",
    "art_list = []\n",
    "\n",
    "title = soup.find_all('div', class_='content_title')\n",
    "article = soup.find_all('div', class_='article_teaser_body')\n",
    "\n",
    "list_e =[title, article]\n",
    "\n",
    "for titl, art in zip(title, article):\n",
    "    print(f'Title: {titl.text}')\n",
    "    print(f'Article extract: {art.text}')\n",
    "    print('----------------------------------')\n",
    "    title_list.append(titl.text)\n",
    "    art_list.append(art.text)"
   ]
  },
  {
   "source": [
    "# 2. Featured Image URL build"
   ],
   "cell_type": "markdown",
   "metadata": {}
  },
  {
   "cell_type": "code",
   "execution_count": 33,
   "metadata": {},
   "outputs": [],
   "source": [
    "space_img_url = \"https://spaceimages-mars.com/\"\n",
    "browser.visit(space_img_url)"
   ]
  },
  {
   "cell_type": "code",
   "execution_count": 56,
   "metadata": {},
   "outputs": [
    {
     "output_type": "stream",
     "name": "stdout",
     "text": [
      "https://spaceimages-mars.com/image/featured/mars3.jpg\n"
     ]
    }
   ],
   "source": [
    "html_img = browser.html\n",
    "soup_img = bs(html_img, 'html.parser')\n",
    "\n",
    "header_img = soup_img.find('img', class_=\"headerimage\")['src']\n",
    "\n",
    "featured_image_url = space_img_url+header_img\n",
    "\n",
    "print(featured_image_url)\n"
   ]
  },
  {
   "source": [
    "# 3. Mars facts table extraction"
   ],
   "cell_type": "markdown",
   "metadata": {}
  },
  {
   "cell_type": "code",
   "execution_count": 57,
   "metadata": {},
   "outputs": [],
   "source": [
    "facts_url = \"https://galaxyfacts-mars.com/\"\n",
    "browser.visit(facts_url)"
   ]
  },
  {
   "cell_type": "code",
   "execution_count": 59,
   "metadata": {},
   "outputs": [
    {
     "output_type": "display_data",
     "data": {
      "text/plain": "[                         0                1                2\n 0  Mars - Earth Comparison             Mars            Earth\n 1                Diameter:         6,779 km        12,742 km\n 2                    Mass:  6.39 × 10^23 kg  5.97 × 10^24 kg\n 3                   Moons:                2                1\n 4       Distance from Sun:   227,943,824 km   149,598,262 km\n 5          Length of Year:   687 Earth days      365.24 days\n 6             Temperature:     -87 to -5 °C      -88 to 58°C,\n                       0                              1\n 0  Equatorial Diameter:                       6,792 km\n 1       Polar Diameter:                       6,752 km\n 2                 Mass:  6.39 × 10^23 kg (0.11 Earths)\n 3                Moons:          2 ( Phobos & Deimos )\n 4       Orbit Distance:       227,943,824 km (1.38 AU)\n 5         Orbit Period:           687 days (1.9 years)\n 6  Surface Temperature:                   -87 to -5 °C\n 7         First Record:              2nd millennium BC\n 8          Recorded By:           Egyptian astronomers]"
     },
     "metadata": {}
    }
   ],
   "source": [
    "tables = pd.read_html(facts_url)\n",
    "display(tables)"
   ]
  },
  {
   "cell_type": "code",
   "execution_count": null,
   "metadata": {},
   "outputs": [],
   "source": []
  }
 ],
 "metadata": {
  "kernelspec": {
   "name": "python3",
   "display_name": "Python 3.6.10 64-bit ('pythonData': conda)",
   "metadata": {
    "interpreter": {
     "hash": "7c09514586e94388aace9481687a5d836fd433c1a46eb6d30ba5186b3427b6b9"
    }
   }
  },
  "language_info": {
   "codemirror_mode": {
    "name": "ipython",
    "version": 3
   },
   "file_extension": ".py",
   "mimetype": "text/x-python",
   "name": "python",
   "nbconvert_exporter": "python",
   "pygments_lexer": "ipython3",
   "version": "3.6.10-final"
  }
 },
 "nbformat": 4,
 "nbformat_minor": 4
}