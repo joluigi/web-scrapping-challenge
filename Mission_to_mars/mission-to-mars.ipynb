{
 "cells": [
  {
   "cell_type": "markdown",
   "metadata": {},
   "source": [
    "# Mission to Mars Scrapping"
   ]
  },
  {
   "cell_type": "markdown",
   "metadata": {},
   "source": [
    "Site to explore: <a href=\"https://redplanetscience.com/\">Redplanet Science</a>"
   ]
  },
  {
   "cell_type": "code",
   "execution_count": 2,
   "metadata": {},
   "outputs": [],
   "source": [
    "# Importing Dependencies\n",
    "\n",
    "import pandas as pd\n",
    "from bs4 import BeautifulSoup as bs\n",
    "from splinter import Browser\n",
    "from webdriver_manager.chrome import ChromeDriverManager\n",
    "import requests\n",
    "from urllib.request import urlopen as uReq\n",
    "from pprint import pprint"
   ]
  },
  {
   "cell_type": "code",
   "execution_count": 89,
   "metadata": {},
   "outputs": [
    {
     "output_type": "stream",
     "name": "stderr",
     "text": [
      "[WDM] - ====== WebDriver manager ======\n",
      "[WDM] - Current google-chrome version is 89.0.4389\n",
      "[WDM] - Get LATEST driver version for 89.0.4389\n",
      "[WDM] - Driver [C:\\Users\\Jose.Vazquez\\.wdm\\drivers\\chromedriver\\win32\\89.0.4389.23\\chromedriver.exe] found in cache\n",
      "\n",
      "\n"
     ]
    }
   ],
   "source": [
    "# Setup splinter\n",
    "executable_path = {'executable_path': ChromeDriverManager().install()}\n",
    "browser = Browser('chrome', **executable_path, headless=False)"
   ]
  },
  {
   "cell_type": "markdown",
   "metadata": {},
   "source": [
    "# 1. Latest Mars news extraction"
   ]
  },
  {
   "cell_type": "code",
   "execution_count": 90,
   "metadata": {},
   "outputs": [],
   "source": [
    "# Defining URL to scrape\n",
    "\n",
    "url = \"https://redplanetscience.com/\"\n",
    "browser.visit(url)"
   ]
  },
  {
   "cell_type": "code",
   "execution_count": 91,
   "metadata": {
    "tags": []
   },
   "outputs": [
    {
     "output_type": "stream",
     "name": "stdout",
     "text": [
      "Title: 7 Things to Know About the Mars 2020 Perseverance Rover Mission\nArticle extract: NASA's next rover to the Red Planet is slated to launch no earlier than July 30. These highlights will get you up to speed on the ambitious mission.\n----------------------------------\nTitle: Two Rovers to Roll on Mars Again: Curiosity and Mars 2020\nArticle extract: They look like twins. But under the hood, the rover currently exploring the Red Planet and the one launching there this summer have distinct science tools and roles to play.\n----------------------------------\nTitle: The Extraordinary Sample-Gathering System of NASA's Perseverance Mars Rover\nArticle extract: Two astronauts collected Moon rocks on Apollo 11. It will take three robotic systems working together to gather up the first Mars rock samples for return to Earth.\n----------------------------------\nTitle: Naming a NASA Mars Rover Can Change Your Life\nArticle extract: Want to name the robotic scientist NASA is sending to Mars in 2020? The student who named Curiosity — the rover currently exploring Mars — will tell you this is an opportunity worth taking.\n----------------------------------\nTitle: How NASA's Mars Helicopter Will Reach the Red Planet's Surface\nArticle extract: The small craft will seek to prove that powered, controlled flight is possible on another planet. But just getting it onto the surface of Mars will take a whole lot of ingenuity.\n----------------------------------\nTitle: Independent Review Indicates NASA Prepared for Mars Sample Return Campaign\nArticle extract: NASA released an independent review report Tuesday indicating the agency is well positioned for its Mars Sample Return campaign to bring pristine samples from Mars to Earth for scientific study.\n----------------------------------\nTitle: NASA's Perseverance Rover Will Peer Beneath Mars' Surface \nArticle extract: The agency's newest rover will use the first ground-penetrating radar instrument on the Martian surface to help search for signs of past microbial life. \n----------------------------------\nTitle: Mars Is Getting a New Robotic Meteorologist\nArticle extract: Sensors on NASA's Perseverance will help prepare for future human exploration by taking weather measurements and studying dust particles.\n----------------------------------\nTitle: How NASA's Perseverance Mars Team Adjusted to Work in the Time of Coronavirus \nArticle extract: Like much of the rest of the world, the Mars rover team is pushing forward with its mission-critical work while putting the health and safety of their colleagues and community first.\n----------------------------------\nTitle: NASA Wins 4 Webbys, 4 People's Voice Awards\nArticle extract: Winners include the JPL-managed \"Send Your Name to Mars\" campaign, NASA's Global Climate Change website and Solar System Interactive.\n----------------------------------\nTitle: Scientists Explore Outback as Testbed for Mars \nArticle extract: Australia provides a great place for NASA's Mars 2020 and the ESA-Roscosmos ExoMars scientists to hone techniques in preparation for searching for signs ancient life on Mars.\n----------------------------------\nTitle: Two of a Space Kind: Apollo 12 and Mars 2020\nArticle extract: Apollo 12 and the upcoming Mars 2020 mission may be separated by half a century, but they share several goals unique in the annals of space exploration.\n----------------------------------\nTitle: MOXIE Could Help Future Rockets Launch Off Mars\nArticle extract: NASA's Perseverance rover carries a device to convert Martian air into oxygen that, if produced on a larger scale, could be used not just for breathing, but also for fuel.\n----------------------------------\nTitle: NASA's Mars 2020 Heads Into the Test Chamber\nArticle extract: In this time-lapse video taken at JPL, engineers move the Mars 2020 rover into a large vacuum chamber for testing in Mars-like environmental conditions.\n----------------------------------\nTitle: NASA Perseverance Mars Rover Scientists Train in the Nevada Desert\nArticle extract: Team members searched for signs of ancient microscopic life there, just as NASA's latest rover will on the Red Planet next year.\n----------------------------------\n{'title 1': '7 Things to Know About the Mars 2020 Perseverance Rover Mission', 'art 1': \"NASA's next rover to the Red Planet is slated to launch no earlier than July 30. These highlights will get you up to speed on the ambitious mission.\", 'title 2': 'Two Rovers to Roll on Mars Again: Curiosity and Mars 2020', 'art 2': 'They look like twins. But under the hood, the rover currently exploring the Red Planet and the one launching there this summer have distinct science tools and roles to play.', 'title 3': \"The Extraordinary Sample-Gathering System of NASA's Perseverance Mars Rover\", 'art 3': 'Two astronauts collected Moon rocks on Apollo 11. It will take three robotic systems working together to gather up the first Mars rock samples for return to Earth.', 'title 4': 'Naming a NASA Mars Rover Can Change Your Life', 'art 4': 'Want to name the robotic scientist NASA is sending to Mars in 2020? The student who named Curiosity — the rover currently exploring Mars — will tell you this is an opportunity worth taking.', 'title 5': \"How NASA's Mars Helicopter Will Reach the Red Planet's Surface\", 'art 5': 'The small craft will seek to prove that powered, controlled flight is possible on another planet. But just getting it onto the surface of Mars will take a whole lot of ingenuity.', 'title 6': 'Independent Review Indicates NASA Prepared for Mars Sample Return Campaign', 'art 6': 'NASA released an independent review report Tuesday indicating the agency is well positioned for its Mars Sample Return campaign to bring pristine samples from Mars to Earth for scientific study.', 'title 7': \"NASA's Perseverance Rover Will Peer Beneath Mars' Surface \", 'art 7': \"The agency's newest rover will use the first ground-penetrating radar instrument on the Martian surface to help search for signs of past microbial life. \", 'title 8': 'Mars Is Getting a New Robotic Meteorologist', 'art 8': \"Sensors on NASA's Perseverance will help prepare for future human exploration by taking weather measurements and studying dust particles.\", 'title 9': \"How NASA's Perseverance Mars Team Adjusted to Work in the Time of Coronavirus \", 'art 9': 'Like much of the rest of the world, the Mars rover team is pushing forward with its mission-critical work while putting the health and safety of their colleagues and community first.', 'title 10': \"NASA Wins 4 Webbys, 4 People's Voice Awards\", 'art 10': 'Winners include the JPL-managed \"Send Your Name to Mars\" campaign, NASA\\'s Global Climate Change website and Solar System Interactive.', 'title 11': 'Scientists Explore Outback as Testbed for Mars ', 'art 11': \"Australia provides a great place for NASA's Mars 2020 and the ESA-Roscosmos ExoMars scientists to hone techniques in preparation for searching for signs ancient life on Mars.\", 'title 12': 'Two of a Space Kind: Apollo 12 and Mars 2020', 'art 12': 'Apollo 12 and the upcoming Mars 2020 mission may be separated by half a century, but they share several goals unique in the annals of space exploration.', 'title 13': 'MOXIE Could Help Future Rockets Launch Off Mars', 'art 13': \"NASA's Perseverance rover carries a device to convert Martian air into oxygen that, if produced on a larger scale, could be used not just for breathing, but also for fuel.\", 'title 14': \"NASA's Mars 2020 Heads Into the Test Chamber\", 'art 14': 'In this time-lapse video taken at JPL, engineers move the Mars 2020 rover into a large vacuum chamber for testing in Mars-like environmental conditions.', 'title 15': 'NASA Perseverance Mars Rover Scientists Train in the Nevada Desert', 'art 15': \"Team members searched for signs of ancient microscopic life there, just as NASA's latest rover will on the Red Planet next year.\"}\n"
     ]
    }
   ],
   "source": [
    "html = browser.html\n",
    "soup = bs(html, 'html.parser')\n",
    "\n",
    "title_list = []\n",
    "art_list = []\n",
    "lat_new_dict = {}\n",
    "\n",
    "title = soup.find_all('div', class_='content_title')\n",
    "article = soup.find_all('div', class_='article_teaser_body')\n",
    "\n",
    "list_e =[title, article]\n",
    "i=0\n",
    "\n",
    "for titl, art in zip(title, article):\n",
    "    i+=1\n",
    "    print(f'Title: {titl.text}')\n",
    "    print(f'Article extract: {art.text}')\n",
    "    print('----------------------------------')\n",
    "    title_list.append(titl.text)\n",
    "    art_list.append(art.text)\n",
    "    lat_new_dict.update({'title '+str(i):titl.text, 'art '+str(i):art.text})\n",
    "    \n",
    "print(lat_new_dict)"
   ]
  },
  {
   "cell_type": "code",
   "execution_count": 31,
   "metadata": {},
   "outputs": [
    {
     "output_type": "stream",
     "name": "stdout",
     "text": [
      "{'lat_news': {'article': ['With the Mars 2020 mission ramping up, the '\n                          'documentary — the first of four about past JPL '\n                          'missions to the Red Planet to be shown at Caltech — '\n                          'tells a gripping backstory.',\n                          'New evidence suggests salty, shallow ponds once '\n                          \"dotted a Martian crater — a sign of the planet's \"\n                          'drying climate.',\n                          'Team members searched for signs of ancient '\n                          \"microscopic life there, just as NASA's latest rover \"\n                          'will on the Red Planet next year.',\n                          'The small craft will seek to prove that powered, '\n                          'controlled flight is possible on another planet. '\n                          'But just getting it onto the surface of Mars will '\n                          'take a whole lot of ingenuity.',\n                          'Listen to the marsquakes and other, less-expected '\n                          'sounds that the Mars lander has been detecting.',\n                          'After more than a year in the \"clay-bearing unit,\" '\n                          'Curiosity is making a mile-long journey around some '\n                          'deep sand so that it can explore higher up Mount '\n                          'Sharp.',\n                          'In this time-lapse video taken at JPL, engineers '\n                          'move the Mars 2020 rover into a large vacuum '\n                          'chamber for testing in Mars-like environmental '\n                          'conditions.',\n                          'An electronics issue is suspected to be preventing '\n                          'the sensors from sharing their data about Mars '\n                          'weather with the spacecraft.',\n                          'Using an online tool to label Martian terrain '\n                          'types, you can train an artificial intelligence '\n                          'algorithm that could improve the way engineers '\n                          'guide the Curiosity rover.',\n                          'For the first time in the history of space '\n                          'exploration, scientists have measured the seasonal '\n                          'changes in the gases that fill the air directly '\n                          'above the surface of Gale Crater on Mars. ',\n                          'A crane lifts the rocket-powered descent stage away '\n                          \"from NASA's Mars 2020 rover after technicians \"\n                          'tested the pyrotechnic charges that separate the '\n                          'two spacecraft.',\n                          \"The agency's new Mars rover is put through a series \"\n                          'of tests in vacuum chambers, acoustic chambers and '\n                          'more to get ready for the Red Planet.',\n                          'NASA released an independent review report Tuesday '\n                          'indicating the agency is well positioned for its '\n                          'Mars Sample Return campaign to bring pristine '\n                          'samples from Mars to Earth for scientific study.',\n                          \"Vaneeza Rupani's essay was chosen as the name for \"\n                          \"the small spacecraft, which will mark NASA's first \"\n                          'attempt at powered flight on another planet.',\n                          'The first to be rigged with microphones, the '\n                          \"agency's latest Mars rover picked up the subtle \"\n                          'sounds of its own inner workings during '\n                          'interplanetary flight.'],\n              'title': [\"Screening Soon: 'The Pathfinders' Trains Lens on Mars\",\n                        \"NASA's Curiosity Rover Finds an Ancient Oasis on Mars\",\n                        'NASA Perseverance Mars Rover Scientists Train in the '\n                        'Nevada Desert',\n                        \"How NASA's Mars Helicopter Will Reach the Red \"\n                        \"Planet's Surface\",\n                        \"NASA's InSight 'Hears' Peculiar Sounds on Mars\",\n                        \"Curiosity Mars Rover's Summer Road Trip Has Begun\",\n                        \"NASA's Mars 2020 Heads Into the Test Chamber\",\n                        \"NASA Engineers Checking InSight's Weather Sensors\",\n                        \"NASA's Mars Rover Drivers Need Your Help\",\n                        'With Mars Methane Mystery Unsolved, Curiosity Serves '\n                        'Scientists a New One: Oxygen',\n                        \"NASA's Mars 2020 Rover Tests Descent-Stage Separation\",\n                        \"NASA's Perseverance Rover Goes Through Trials by \"\n                        'Fire, Ice, Light and Sound',\n                        'Independent Review Indicates NASA Prepared for Mars '\n                        'Sample Return Campaign',\n                        \"Alabama High School Student Names NASA's Mars \"\n                        'Helicopter',\n                        \"Hear Audio From NASA's Perseverance As It Travels \"\n                        'Through Deep Space']}}\n"
     ]
    }
   ],
   "source": [
    "dict_l= {'lat_news': {'title':title_list, 'article':art_list}}\n",
    "pprint(dict_l)"
   ]
  },
  {
   "cell_type": "markdown",
   "metadata": {},
   "source": [
    "# 2. Featured Image URL build"
   ]
  },
  {
   "cell_type": "code",
   "execution_count": 32,
   "metadata": {},
   "outputs": [],
   "source": [
    "space_img_url = \"https://spaceimages-mars.com/\"\n",
    "browser.visit(space_img_url)"
   ]
  },
  {
   "cell_type": "code",
   "execution_count": 33,
   "metadata": {},
   "outputs": [
    {
     "output_type": "stream",
     "name": "stdout",
     "text": [
      "https://spaceimages-mars.com/image/featured/mars2.jpg\n"
     ]
    }
   ],
   "source": [
    "html_img = browser.html\n",
    "soup_img = bs(html_img, 'html.parser')\n",
    "\n",
    "header_img = soup_img.find('img', class_=\"headerimage\")['src']\n",
    "\n",
    "featured_image_url = space_img_url+header_img\n",
    "\n",
    "print(featured_image_url)\n"
   ]
  },
  {
   "cell_type": "markdown",
   "metadata": {},
   "source": [
    "# 3. Mars facts table extraction"
   ]
  },
  {
   "cell_type": "code",
   "execution_count": 43,
   "metadata": {},
   "outputs": [],
   "source": [
    "facts_url = \"https://galaxyfacts-mars.com/\"\n",
    "browser.visit(facts_url)"
   ]
  },
  {
   "cell_type": "code",
   "execution_count": 73,
   "metadata": {},
   "outputs": [
    {
     "output_type": "display_data",
     "data": {
      "text/plain": "                         0                1                2\n0  Mars - Earth Comparison             Mars            Earth\n1                Diameter:         6,779 km        12,742 km\n2                    Mass:  6.39 × 10^23 kg  5.97 × 10^24 kg\n3                   Moons:                2                1\n4       Distance from Sun:   227,943,824 km   149,598,262 km\n5          Length of Year:   687 Earth days      365.24 days\n6             Temperature:     -87 to -5 °C      -88 to 58°C",
      "text/html": "<div>\n<style scoped>\n    .dataframe tbody tr th:only-of-type {\n        vertical-align: middle;\n    }\n\n    .dataframe tbody tr th {\n        vertical-align: top;\n    }\n\n    .dataframe thead th {\n        text-align: right;\n    }\n</style>\n<table border=\"1\" class=\"dataframe\">\n  <thead>\n    <tr style=\"text-align: right;\">\n      <th></th>\n      <th>0</th>\n      <th>1</th>\n      <th>2</th>\n    </tr>\n  </thead>\n  <tbody>\n    <tr>\n      <th>0</th>\n      <td>Mars - Earth Comparison</td>\n      <td>Mars</td>\n      <td>Earth</td>\n    </tr>\n    <tr>\n      <th>1</th>\n      <td>Diameter:</td>\n      <td>6,779 km</td>\n      <td>12,742 km</td>\n    </tr>\n    <tr>\n      <th>2</th>\n      <td>Mass:</td>\n      <td>6.39 × 10^23 kg</td>\n      <td>5.97 × 10^24 kg</td>\n    </tr>\n    <tr>\n      <th>3</th>\n      <td>Moons:</td>\n      <td>2</td>\n      <td>1</td>\n    </tr>\n    <tr>\n      <th>4</th>\n      <td>Distance from Sun:</td>\n      <td>227,943,824 km</td>\n      <td>149,598,262 km</td>\n    </tr>\n    <tr>\n      <th>5</th>\n      <td>Length of Year:</td>\n      <td>687 Earth days</td>\n      <td>365.24 days</td>\n    </tr>\n    <tr>\n      <th>6</th>\n      <td>Temperature:</td>\n      <td>-87 to -5 °C</td>\n      <td>-88 to 58°C</td>\n    </tr>\n  </tbody>\n</table>\n</div>"
     },
     "metadata": {}
    },
    {
     "output_type": "display_data",
     "data": {
      "text/plain": "{'Diameter:': {'Mars': '6,779 km', 'Earth': '12,742 km'},\n 'Mass:': {'Mars': '6.39 × 10^23 kg', 'Earth': '5.97 × 10^24 kg'},\n 'Moons:': {'Mars': '2', 'Earth': '1'},\n 'Distance from Sun:': {'Mars': '227,943,824 km', 'Earth': '149,598,262 km'},\n 'Length of Year:': {'Mars': '687 Earth days', 'Earth': '365.24 days'},\n 'Temperature:': {'Mars': '-87 to -5 °C', 'Earth': '-88 to 58°C'}}"
     },
     "metadata": {}
    }
   ],
   "source": [
    "data_tables = pd.read_html(facts_url)\n",
    "display(data_tables[0])\n",
    "table_list = data_tables[0].set_index(0).drop('Mars - Earth Comparison')\n",
    "final_table = table_list.rename(columns={1:'Mars', 2:'Earth' })\\\n",
    "                .to_dict('index')\n",
    "\n",
    "display(final_table)\n",
    "\n"
   ]
  },
  {
   "cell_type": "markdown",
   "metadata": {},
   "source": [
    "# 4. Mars Images extraction"
   ]
  },
  {
   "cell_type": "code",
   "execution_count": 92,
   "metadata": {},
   "outputs": [],
   "source": [
    "mult_img_url = (\"https://marshemispheres.com/\")\n",
    "browser.visit(mult_img_url)"
   ]
  },
  {
   "cell_type": "code",
   "execution_count": 93,
   "metadata": {
    "tags": []
   },
   "outputs": [
    {
     "output_type": "stream",
     "name": "stdout",
     "text": [
      "Cerberus Hemisphere Enhanced\n",
      "------------------\n",
      "Schiaparelli Hemisphere Enhanced\n",
      "------------------\n",
      "Syrtis Major Hemisphere Enhanced\n",
      "------------------\n",
      "Valles Marineris Hemisphere Enhanced\n",
      "------------------\n",
      "Scraping finished going back to first page\n",
      "{'title 0': 'Cerberus Hemisphere Enhanced', 'img url 0': 'https://marshemispheres.com/images/full.jpg', 'title 1': 'Schiaparelli Hemisphere Enhanced', 'img url 1': 'https://marshemispheres.com/images/schiaparelli_enhanced-full.jpg', 'title 2': 'Syrtis Major Hemisphere Enhanced', 'img url 2': 'https://marshemispheres.com/images/syrtis_major_enhanced-full.jpg', 'title 3': 'Valles Marineris Hemisphere Enhanced', 'img url 3': 'https://marshemispheres.com/images/valles_marineris_enhanced-full.jpg'}\n"
     ]
    }
   ],
   "source": [
    "mult_img_html = browser.html\n",
    "soup = bs(mult_img_html, 'html.parser')\n",
    "\n",
    "art_list_img = soup.find_all('a', class_='itemLink product-item')\n",
    "h3_list = soup.find_all('h3')\n",
    "mars_img_list = {}\n",
    "\n",
    "\n",
    "for n, h3 in enumerate(h3_list):\n",
    "\n",
    "    try:                   \n",
    "        browser.links.find_by_partial_text(h3.text).click()\n",
    "        crrnt_page = browser.html\n",
    "        #print(crrnt_page)\n",
    "        page_soup = bs(crrnt_page, 'html.parser')\n",
    "        img_download = page_soup.find_all('div', class_='downloads')\n",
    "        img_href = img_download[0].a['href']\n",
    "        print(h3.text)\n",
    "        mars_img_list.update({'title '+str(n):h3.text, 'img url '+str(n):mult_img_url+img_href})\n",
    "        print('------------------')\n",
    "        browser.visit(mult_img_url)\n",
    "\n",
    "    except:\n",
    "        browser.visit(mult_img_url)\n",
    "        print(\"Scraping finished going back to first page\") \n",
    "        break\n",
    "\n",
    "print(mars_img_list)\n"
   ]
  },
  {
   "cell_type": "code",
   "execution_count": 94,
   "metadata": {},
   "outputs": [],
   "source": [
    "    mars_tot_data ={\n",
    "\n",
    "        'lat_news': {'title':title_list, 'article':art_list},\n",
    "        'feat_image':featured_image_url,\n",
    "        'mars_tables': data_tables,\n",
    "        'hem_list': mars_img_list\n",
    "    }"
   ]
  },
  {
   "cell_type": "code",
   "execution_count": 95,
   "metadata": {},
   "outputs": [
    {
     "output_type": "stream",
     "name": "stdout",
     "text": [
      "{'img url 0': 'https://marshemispheres.com/images/full.jpg',\n 'img url 1': 'https://marshemispheres.com/images/schiaparelli_enhanced-full.jpg',\n 'img url 2': 'https://marshemispheres.com/images/syrtis_major_enhanced-full.jpg',\n 'img url 3': 'https://marshemispheres.com/images/valles_marineris_enhanced-full.jpg',\n 'title 0': 'Cerberus Hemisphere Enhanced',\n 'title 1': 'Schiaparelli Hemisphere Enhanced',\n 'title 2': 'Syrtis Major Hemisphere Enhanced',\n 'title 3': 'Valles Marineris Hemisphere Enhanced'}\n"
     ]
    }
   ],
   "source": [
    "pprint(mars_tot_data['hem_list'])"
   ]
  },
  {
   "cell_type": "code",
   "execution_count": 77,
   "metadata": {},
   "outputs": [
    {
     "output_type": "execute_result",
     "data": {
      "text/plain": [
       "'<table border=\"1\" class=\"dataframe\">\\n  <thead>\\n    <tr style=\"text-align: right;\">\\n      <th></th>\\n      <th>Mars</th>\\n      <th>Earth</th>\\n    </tr>\\n  </thead>\\n  <tbody>\\n    <tr>\\n      <th>Diameter:</th>\\n      <td>6,779 km</td>\\n      <td>12,742 km</td>\\n    </tr>\\n    <tr>\\n      <th>Mass:</th>\\n      <td>6.39 × 10^23 kg</td>\\n      <td>5.97 × 10^24 kg</td>\\n    </tr>\\n    <tr>\\n      <th>Moons:</th>\\n      <td>2</td>\\n      <td>1</td>\\n    </tr>\\n    <tr>\\n      <th>Distance from Sun:</th>\\n      <td>227,943,824 km</td>\\n      <td>149,598,262 km</td>\\n    </tr>\\n    <tr>\\n      <th>Length of Year:</th>\\n      <td>687 Earth days</td>\\n      <td>365.24 days</td>\\n    </tr>\\n    <tr>\\n      <th>Temperature:</th>\\n      <td>-87 to -5 °C</td>\\n      <td>-88 to 58°C</td>\\n    </tr>\\n  </tbody>\\n</table>'"
      ]
     },
     "metadata": {},
     "execution_count": 77
    }
   ],
   "source": [
    "pd.DataFrame.from_dict(final_table, orient='index').to_html()"
   ]
  },
  {
   "cell_type": "code",
   "execution_count": null,
   "metadata": {},
   "outputs": [],
   "source": []
  }
 ],
 "metadata": {
  "kernelspec": {
   "name": "python3610jvsc74a57bd07c09514586e94388aace9481687a5d836fd433c1a46eb6d30ba5186b3427b6b9",
   "display_name": "Python 3.6.10 64-bit ('pythonData': conda)"
  },
  "language_info": {
   "codemirror_mode": {
    "name": "ipython",
    "version": 3
   },
   "file_extension": ".py",
   "mimetype": "text/x-python",
   "name": "python",
   "nbconvert_exporter": "python",
   "pygments_lexer": "ipython3",
   "version": "3.6.10-final"
  }
 },
 "nbformat": 4,
 "nbformat_minor": 4
}