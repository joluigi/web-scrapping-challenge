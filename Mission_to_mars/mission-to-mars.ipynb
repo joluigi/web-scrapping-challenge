{
 "cells": [
  {
   "cell_type": "markdown",
   "metadata": {},
   "source": [
    "# Mission to Mars Scrapping"
   ]
  },
  {
   "cell_type": "markdown",
   "metadata": {},
   "source": [
    "Site to explore: <a href=\"https://redplanetscience.com/\">Redplanet Science</a>"
   ]
  },
  {
   "cell_type": "code",
   "execution_count": 2,
   "metadata": {},
   "outputs": [],
   "source": [
    "# Importing Dependencies\n",
    "\n",
    "import pandas as pd\n",
    "from bs4 import BeautifulSoup as bs\n",
    "from splinter import Browser\n",
    "from webdriver_manager.chrome import ChromeDriverManager\n",
    "import requests\n",
    "from urllib.request import urlopen as uReq"
   ]
  },
  {
   "cell_type": "code",
   "execution_count": 3,
   "metadata": {},
   "outputs": [
    {
     "output_type": "stream",
     "name": "stderr",
     "text": [
      "[WDM] - ====== WebDriver manager ======\n",
      "[WDM] - Current google-chrome version is 89.0.4389\n",
      "[WDM] - Get LATEST driver version for 89.0.4389\n",
      "\n",
      "\n",
      "[WDM] - Driver [C:\\Users\\Jose.Vazquez\\.wdm\\drivers\\chromedriver\\win32\\89.0.4389.23\\chromedriver.exe] found in cache\n"
     ]
    }
   ],
   "source": [
    "# Setup splinter\n",
    "executable_path = {'executable_path': ChromeDriverManager().install()}\n",
    "browser = Browser('chrome', **executable_path, headless=False)"
   ]
  },
  {
   "cell_type": "markdown",
   "metadata": {},
   "source": [
    "# 1. Latest Mars news extraction"
   ]
  },
  {
   "cell_type": "code",
   "execution_count": 5,
   "metadata": {},
   "outputs": [],
   "source": [
    "# Defining URL to scrape\n",
    "\n",
    "url = \"https://redplanetscience.com/\"\n",
    "browser.visit(url)"
   ]
  },
  {
   "cell_type": "code",
   "execution_count": 6,
   "metadata": {},
   "outputs": [
    {
     "output_type": "stream",
     "name": "stdout",
     "text": [
      "Title: NASA's Perseverance Rover Is Midway to Mars \nArticle extract: Sometimes half measures can be a good thing – especially on a journey this long. The agency's latest rover only has about 146 million miles left to reach its destination.\n----------------------------------\nTitle: From JPL's Mailroom to Mars and Beyond\nArticle extract: Bill Allen has thrived as the mechanical systems design lead for three Mars rover missions, but he got his start as a teenager sorting letters for the NASA center.\n----------------------------------\nTitle: NASA to Hold Mars 2020 Perseverance Rover Launch Briefing\nArticle extract: Learn more about the agency's next Red Planet mission during a live event on June 17.\n----------------------------------\nTitle: NASA's Mars Perseverance Rover Passes Flight Readiness Review\nArticle extract: ​The agency's Mars 2020 mission has one more big prelaunch review – the Launch Readiness Review, on July 27.\n----------------------------------\nTitle: NASA to Broadcast Mars 2020 Perseverance Launch, Prelaunch Activities\nArticle extract: Starting July 27, news activities will cover everything from mission engineering and science to returning samples from Mars to, of course, the launch itself.\n----------------------------------\nTitle: Alabama High School Student Names NASA's Mars Helicopter\nArticle extract: Vaneeza Rupani's essay was chosen as the name for the small spacecraft, which will mark NASA's first attempt at powered flight on another planet.\n----------------------------------\nTitle: NASA's Mars 2020 Heads Into the Test Chamber\nArticle extract: In this time-lapse video taken at JPL, engineers move the Mars 2020 rover into a large vacuum chamber for testing in Mars-like environmental conditions.\n----------------------------------\nTitle: NASA's Mars 2020 Rover Goes Coast-to-Coast to Prep for Launch\nArticle extract: The agency's first step in returning rocks from Mars just arrived at Kennedy Space Center. The Mars 2020 team now begins readying for a launch to the Red Planet this July.\n----------------------------------\nTitle: Robotic Toolkit Added to NASA's Mars 2020 Rover\nArticle extract: The bit carousel, which lies at the heart of the rover's Sample Caching System, is now aboard NASA's newest rover. \n----------------------------------\nTitle: The Man Who Wanted to Fly on Mars\nArticle extract: The Mars Helicopter is riding to the Red Planet this summer with NASA's Perseverance rover. The helicopter's chief engineer, Bob Balaram, shares the saga of how it came into being.\n----------------------------------\nTitle: MOXIE Could Help Future Rockets Launch Off Mars\nArticle extract: NASA's Perseverance rover carries a device to convert Martian air into oxygen that, if produced on a larger scale, could be used not just for breathing, but also for fuel.\n----------------------------------\nTitle: NASA Wins 4 Webbys, 4 People's Voice Awards\nArticle extract: Winners include the JPL-managed \"Send Your Name to Mars\" campaign, NASA's Global Climate Change website and Solar System Interactive.\n----------------------------------\nTitle: NASA's Perseverance Mars Rover Gets Its Wheels and Air Brakes\nArticle extract: After the rover was shipped from JPL to Kennedy Space Center, the team is getting closer to finalizing the spacecraft for launch later this summer.\n----------------------------------\nTitle: Curiosity Mars Rover's Summer Road Trip Has Begun\nArticle extract: After more than a year in the \"clay-bearing unit,\" Curiosity is making a mile-long journey around some deep sand so that it can explore higher up Mount Sharp.\n----------------------------------\nTitle: NASA Updates Mars 2020 Mission Environmental Review\nArticle extract: NASA and the Department of Energy have completed a more detailed risk analysis for the Mars 2020 rover launch from Florida.\n----------------------------------\n"
     ]
    }
   ],
   "source": [
    "html = browser.html\n",
    "soup = bs(html, 'html.parser')\n",
    "\n",
    "title_list = []\n",
    "art_list = []\n",
    "\n",
    "title = soup.find_all('div', class_='content_title')\n",
    "article = soup.find_all('div', class_='article_teaser_body')\n",
    "\n",
    "list_e =[title, article]\n",
    "\n",
    "for titl, art in zip(title, article):\n",
    "    print(f'Title: {titl.text}')\n",
    "    print(f'Article extract: {art.text}')\n",
    "    print('----------------------------------')\n",
    "    title_list.append(titl.text)\n",
    "    art_list.append(art.text)"
   ]
  },
  {
   "cell_type": "markdown",
   "metadata": {},
   "source": [
    "# 2. Featured Image URL build"
   ]
  },
  {
   "cell_type": "code",
   "execution_count": 28,
   "metadata": {},
   "outputs": [],
   "source": [
    "space_img_url = \"https://spaceimages-mars.com/\"\n",
    "browser.visit(space_img_url)"
   ]
  },
  {
   "cell_type": "code",
   "execution_count": 8,
   "metadata": {},
   "outputs": [
    {
     "output_type": "stream",
     "name": "stdout",
     "text": [
      "https://spaceimages-mars.com/image/featured/mars3.jpg\n"
     ]
    }
   ],
   "source": [
    "html_img = browser.html\n",
    "soup_img = bs(html_img, 'html.parser')\n",
    "\n",
    "header_img = soup_img.find('img', class_=\"headerimage\")['src']\n",
    "\n",
    "featured_image_url = space_img_url+header_img\n",
    "\n",
    "print(featured_image_url)\n"
   ]
  },
  {
   "cell_type": "markdown",
   "metadata": {},
   "source": [
    "# 3. Mars facts table extraction"
   ]
  },
  {
   "cell_type": "code",
   "execution_count": 27,
   "metadata": {},
   "outputs": [],
   "source": [
    "facts_url = \"https://galaxyfacts-mars.com/\"\n",
    "browser.visit(facts_url)"
   ]
  },
  {
   "cell_type": "code",
   "execution_count": 10,
   "metadata": {},
   "outputs": [
    {
     "output_type": "display_data",
     "data": {
      "text/plain": "[                         0                1                2\n 0  Mars - Earth Comparison             Mars            Earth\n 1                Diameter:         6,779 km        12,742 km\n 2                    Mass:  6.39 × 10^23 kg  5.97 × 10^24 kg\n 3                   Moons:                2                1\n 4       Distance from Sun:   227,943,824 km   149,598,262 km\n 5          Length of Year:   687 Earth days      365.24 days\n 6             Temperature:     -87 to -5 °C      -88 to 58°C,\n                       0                              1\n 0  Equatorial Diameter:                       6,792 km\n 1       Polar Diameter:                       6,752 km\n 2                 Mass:  6.39 × 10^23 kg (0.11 Earths)\n 3                Moons:          2 ( Phobos & Deimos )\n 4       Orbit Distance:       227,943,824 km (1.38 AU)\n 5         Orbit Period:           687 days (1.9 years)\n 6  Surface Temperature:                   -87 to -5 °C\n 7         First Record:              2nd millennium BC\n 8          Recorded By:           Egyptian astronomers]"
     },
     "metadata": {}
    },
    {
     "output_type": "execute_result",
     "data": {
      "text/plain": [
       "                      0                              1\n",
       "0  Equatorial Diameter:                       6,792 km\n",
       "1       Polar Diameter:                       6,752 km\n",
       "2                 Mass:  6.39 × 10^23 kg (0.11 Earths)\n",
       "3                Moons:          2 ( Phobos & Deimos )\n",
       "4       Orbit Distance:       227,943,824 km (1.38 AU)\n",
       "5         Orbit Period:           687 days (1.9 years)\n",
       "6  Surface Temperature:                   -87 to -5 °C\n",
       "7         First Record:              2nd millennium BC\n",
       "8          Recorded By:           Egyptian astronomers"
      ],
      "text/html": "<div>\n<style scoped>\n    .dataframe tbody tr th:only-of-type {\n        vertical-align: middle;\n    }\n\n    .dataframe tbody tr th {\n        vertical-align: top;\n    }\n\n    .dataframe thead th {\n        text-align: right;\n    }\n</style>\n<table border=\"1\" class=\"dataframe\">\n  <thead>\n    <tr style=\"text-align: right;\">\n      <th></th>\n      <th>0</th>\n      <th>1</th>\n    </tr>\n  </thead>\n  <tbody>\n    <tr>\n      <th>0</th>\n      <td>Equatorial Diameter:</td>\n      <td>6,792 km</td>\n    </tr>\n    <tr>\n      <th>1</th>\n      <td>Polar Diameter:</td>\n      <td>6,752 km</td>\n    </tr>\n    <tr>\n      <th>2</th>\n      <td>Mass:</td>\n      <td>6.39 × 10^23 kg (0.11 Earths)</td>\n    </tr>\n    <tr>\n      <th>3</th>\n      <td>Moons:</td>\n      <td>2 ( Phobos &amp; Deimos )</td>\n    </tr>\n    <tr>\n      <th>4</th>\n      <td>Orbit Distance:</td>\n      <td>227,943,824 km (1.38 AU)</td>\n    </tr>\n    <tr>\n      <th>5</th>\n      <td>Orbit Period:</td>\n      <td>687 days (1.9 years)</td>\n    </tr>\n    <tr>\n      <th>6</th>\n      <td>Surface Temperature:</td>\n      <td>-87 to -5 °C</td>\n    </tr>\n    <tr>\n      <th>7</th>\n      <td>First Record:</td>\n      <td>2nd millennium BC</td>\n    </tr>\n    <tr>\n      <th>8</th>\n      <td>Recorded By:</td>\n      <td>Egyptian astronomers</td>\n    </tr>\n  </tbody>\n</table>\n</div>"
     },
     "metadata": {},
     "execution_count": 10
    }
   ],
   "source": [
    "tables = pd.read_html(facts_url)\n",
    "display(tables)\n",
    "tables[1]"
   ]
  },
  {
   "cell_type": "markdown",
   "metadata": {},
   "source": [
    "# 4. Mars Images extraction"
   ]
  },
  {
   "cell_type": "code",
   "execution_count": 46,
   "metadata": {},
   "outputs": [],
   "source": [
    "mult_img_url = (\"https://marshemispheres.com/\")\n",
    "browser.visit(mult_img_url)"
   ]
  },
  {
   "cell_type": "code",
   "execution_count": 179,
   "metadata": {
    "tags": []
   },
   "outputs": [
    {
     "output_type": "stream",
     "name": "stdout",
     "text": [
      "Cerberus Hemisphere Enhanced\n",
      "------------------\n",
      "Schiaparelli Hemisphere Enhanced\n",
      "------------------\n",
      "Syrtis Major Hemisphere Enhanced\n",
      "------------------\n",
      "Valles Marineris Hemisphere Enhanced\n",
      "------------------\n",
      "Scraping finished going back to first page\n",
      "[{'title 0': 'Cerberus Hemisphere Enhanced', 'img url 0': 'https://marshemispheres.com/images/full.jpg'}, {'title 1': 'Schiaparelli Hemisphere Enhanced', 'img url 1': 'https://marshemispheres.com/images/schiaparelli_enhanced-full.jpg'}, {'title 2': 'Syrtis Major Hemisphere Enhanced', 'img url 2': 'https://marshemispheres.com/images/syrtis_major_enhanced-full.jpg'}, {'title 3': 'Valles Marineris Hemisphere Enhanced', 'img url 3': 'https://marshemispheres.com/images/valles_marineris_enhanced-full.jpg'}]\n"
     ]
    }
   ],
   "source": [
    "mult_img_html = browser.html\n",
    "soup = bs(mult_img_html, 'html.parser')\n",
    "\n",
    "art_list = soup.find_all('a', class_='itemLink product-item')\n",
    "h3_list = soup.find_all('h3')\n",
    "mars_img_list = []\n",
    "\n",
    "\n",
    "for n, h3 in enumerate(h3_list):\n",
    "\n",
    "    try:                   \n",
    "        browser.links.find_by_partial_text(h3.text).click()\n",
    "        crrnt_page = browser.html\n",
    "        #print(crrnt_page)\n",
    "        page_soup = bs(crrnt_page, 'html.parser')\n",
    "        img_download = page_soup.find_all('div', class_='downloads')\n",
    "        img_href = img_download[0].a['href']\n",
    "        #print(crrnt_page)\n",
    "        # print(page_soup)\n",
    "        # print('---------------------------------------')\n",
    "        # print(img_download)\n",
    "        # print('---------------------------------------')\n",
    "        # print(img_href)\n",
    "        # print('---------------------------------------')\n",
    "        print(h3.text)\n",
    "        mars_img_list.append({'title '+str(n):h3.text, 'img url '+str(n):mult_img_url+img_href})\n",
    "        print('------------------')\n",
    "        browser.visit(mult_img_url)\n",
    "\n",
    "    \n",
    "    except:\n",
    "        \n",
    "        browser.visit(mult_img_url)\n",
    "        print(\"Scraping finished going back to first page\") \n",
    "        break\n",
    "\n",
    "print(mars_img_list)\n"
   ]
  },
  {
   "cell_type": "code",
   "execution_count": 108,
   "metadata": {},
   "outputs": [
    {
     "output_type": "stream",
     "name": "stdout",
     "text": [
      "[<a class=\"itemLink product-item\" href=\"cerberus.html\"><img alt=\"Cerberus Hemisphere Enhanced thumbnail\" class=\"thumb\" src=\"images/39d3266553462198bd2fbc4d18fbed17_cerberus_enhanced.tif_thumb.png\"/></a>, <a class=\"itemLink product-item\" href=\"cerberus.html\">\n<h3>Cerberus Hemisphere Enhanced</h3>\n</a>, <a class=\"itemLink product-item\" href=\"schiaparelli.html\"><img alt=\"Schiaparelli Hemisphere Enhanced thumbnail\" class=\"thumb\" src=\"images/08eac6e22c07fb1fe72223a79252de20_schiaparelli_enhanced.tif_thumb.png\"/></a>, <a class=\"itemLink product-item\" href=\"schiaparelli.html\">\n<h3>Schiaparelli Hemisphere Enhanced</h3>\n</a>, <a class=\"itemLink product-item\" href=\"syrtis.html\"><img alt=\"Syrtis Major Hemisphere Enhanced thumbnail\" class=\"thumb\" src=\"images/55a0a1e2796313fdeafb17c35925e8ac_syrtis_major_enhanced.tif_thumb.png\"/></a>, <a class=\"itemLink product-item\" href=\"syrtis.html\">\n<h3>Syrtis Major Hemisphere Enhanced</h3>\n</a>, <a class=\"itemLink product-item\" href=\"valles.html\"><img alt=\"Valles Marineris Hemisphere Enhanced thumbnail\" class=\"thumb\" src=\"images/4e59980c1c57f89c680c0e1ccabbeff1_valles_marineris_enhanced.tif_thumb.png\"/></a>, <a class=\"itemLink product-item\" href=\"valles.html\">\n<h3>Valles Marineris Hemisphere Enhanced</h3>\n</a>, <a class=\"itemLink product-item\" href=\"#\" onclick=\"showMain()\">\n<h3>Back</h3>\n</a>]\n"
     ]
    }
   ],
   "source": [
    "print(art_list)"
   ]
  },
  {
   "cell_type": "code",
   "execution_count": null,
   "metadata": {},
   "outputs": [],
   "source": []
  }
 ],
 "metadata": {
  "kernelspec": {
   "name": "python3610jvsc74a57bd07c09514586e94388aace9481687a5d836fd433c1a46eb6d30ba5186b3427b6b9",
   "display_name": "Python 3.6.10 64-bit ('pythonData': conda)"
  },
  "language_info": {
   "codemirror_mode": {
    "name": "ipython",
    "version": 3
   },
   "file_extension": ".py",
   "mimetype": "text/x-python",
   "name": "python",
   "nbconvert_exporter": "python",
   "pygments_lexer": "ipython3",
   "version": "3.6.10-final"
  }
 },
 "nbformat": 4,
 "nbformat_minor": 4
}